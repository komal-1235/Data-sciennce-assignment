{
 "cells": [
  {
   "cell_type": "code",
   "execution_count": 1,
   "id": "eed55640-b589-463c-86a8-02e028734d22",
   "metadata": {},
   "outputs": [],
   "source": [
    "import pandas as pd\n",
    "import numpy as np\n",
    "from scipy.stats import chi2"
   ]
  },
  {
   "cell_type": "markdown",
   "id": "dc5f0abf-b580-4621-8b67-431097d24c37",
   "metadata": {},
   "source": [
    "## Contingency table"
   ]
  },
  {
   "cell_type": "code",
   "execution_count": 3,
   "id": "2f7fe533-e03d-4647-a010-2901738a72e6",
   "metadata": {},
   "outputs": [],
   "source": [
    "data = np.array([[50, 70], [80, 100], [60, 90], [30, 50], [20, 50]])\n",
    "index = ['Very Satisfied','Satisfied', 'Neutral', 'Unsatisfied', 'Very Unsatisfied']\n",
    "columns = ['Smart Thermostat', 'Smart Light']\n",
    "df = pd.DataFrame(data, index=index, columns=columns)"
   ]
  },
  {
   "cell_type": "markdown",
   "id": "330d16d3-1908-4a29-9c15-30b9bf316487",
   "metadata": {},
   "source": [
    "## Task 1:  State the Hypotheses"
   ]
  },
  {
   "cell_type": "code",
   "execution_count": 4,
   "id": "53e7120a-a0bc-497f-9092-ef74c505b6b0",
   "metadata": {},
   "outputs": [
    {
     "name": "stdout",
     "output_type": "stream",
     "text": [
      "H0: There is no significant association between device type and customer satisfaction level.\n"
     ]
    }
   ],
   "source": [
    "print(\"H0: There is no significant association between device type and customer satisfaction level.\")"
   ]
  },
  {
   "cell_type": "code",
   "execution_count": 5,
   "id": "590b165a-8e19-497c-adb2-cfea42570435",
   "metadata": {
    "scrolled": true
   },
   "outputs": [
    {
     "name": "stdout",
     "output_type": "stream",
     "text": [
      "H1: There is a significant association between device type and customer satisfaction level.\n"
     ]
    }
   ],
   "source": [
    "print(\"H1: There is a significant association between device type and customer satisfaction level.\")"
   ]
  },
  {
   "cell_type": "markdown",
   "id": "d6e27f9e-6896-4205-b7e2-0918170ec528",
   "metadata": {},
   "source": [
    "## Task 2: Compute the Chi-Square Statistic"
   ]
  },
  {
   "cell_type": "code",
   "execution_count": 8,
   "id": "19e686ff-72c9-4c52-8785-b7a582b19fc6",
   "metadata": {},
   "outputs": [],
   "source": [
    "observed = df.values"
   ]
  },
  {
   "cell_type": "code",
   "execution_count": 10,
   "id": "70c0dd4e-11bb-44ec-ae10-675462161081",
   "metadata": {},
   "outputs": [
    {
     "name": "stdout",
     "output_type": "stream",
     "text": [
      "Chi-Square Statistic: 5.6382\n"
     ]
    }
   ],
   "source": [
    "expected = np.outer(df.sum(axis=1), df.sum(axis=0)) / df.sum().sum()\n",
    "Chi2_stat = np.sum((observed - expected) ** 2 / expected)\n",
    "print(f\"Chi-Square Statistic: {Chi2_stat:.4f}\")"
   ]
  },
  {
   "cell_type": "markdown",
   "id": "914dbc5d-5948-4094-8043-cf19bc9c6b3e",
   "metadata": {},
   "source": [
    "## Task 3:  Determine the Critical Value"
   ]
  },
  {
   "cell_type": "code",
   "execution_count": 6,
   "id": "3e0e77b0-7391-4d1c-8fbe-51dd6bf342f4",
   "metadata": {},
   "outputs": [
    {
     "name": "stdout",
     "output_type": "stream",
     "text": [
      "Critical Value: 9.4877\n"
     ]
    }
   ],
   "source": [
    "alpha = 0.05\n",
    "degrees_freedom = (len(index) - 1) * (len(columns) -1)\n",
    "critical_value = chi2.ppf(1 - alpha, degrees_freedom)\n",
    "print(f\"Critical Value: {critical_value:.4f}\")"
   ]
  },
  {
   "cell_type": "markdown",
   "id": "c4c34465-1114-4a43-b7fa-a0c8a5240c83",
   "metadata": {},
   "source": [
    "## Task 4: Make a Decision"
   ]
  },
  {
   "cell_type": "code",
   "execution_count": 17,
   "id": "3f06601f-979a-4731-a992-7028742af327",
   "metadata": {},
   "outputs": [
    {
     "name": "stdout",
     "output_type": "stream",
     "text": [
      "Fail to reject H0. No significant association between device type and customer satisfaction level.\n"
     ]
    }
   ],
   "source": [
    "if Chi2_stat > critical_value:\n",
    "    print(\"Reject H0. There is a significant association between device type and customer satisfaction level.\")\n",
    "else:\n",
    "    print(\"Fail to reject H0. No significant association between device type and customer satisfaction level.\")\n",
    "    "
   ]
  },
  {
   "cell_type": "code",
   "execution_count": null,
   "id": "b2ff2115-fe72-4540-8c09-3e3b6970d975",
   "metadata": {},
   "outputs": [],
   "source": []
  }
 ],
 "metadata": {
  "kernelspec": {
   "display_name": "Python 3 (ipykernel)",
   "language": "python",
   "name": "python3"
  },
  "language_info": {
   "codemirror_mode": {
    "name": "ipython",
    "version": 3
   },
   "file_extension": ".py",
   "mimetype": "text/x-python",
   "name": "python",
   "nbconvert_exporter": "python",
   "pygments_lexer": "ipython3",
   "version": "3.11.9"
  }
 },
 "nbformat": 4,
 "nbformat_minor": 5
}
