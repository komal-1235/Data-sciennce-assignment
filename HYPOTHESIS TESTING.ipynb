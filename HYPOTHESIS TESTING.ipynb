{
 "cells": [
  {
   "cell_type": "code",
   "execution_count": 1,
   "id": "8f772228-483a-431d-a1e0-1e515251a8b1",
   "metadata": {},
   "outputs": [],
   "source": [
    "import numpy as np\n",
    "from scipy import stats"
   ]
  },
  {
   "cell_type": "markdown",
   "id": "9949bbb5-9a45-4317-8d34-50d2260190a8",
   "metadata": {},
   "source": [
    "## Data"
   ]
  },
  {
   "cell_type": "code",
   "execution_count": 2,
   "id": "ffd64c3f-a51a-4875-98a9-409056daf8f2",
   "metadata": {},
   "outputs": [],
   "source": [
    "sample_mean = 3050\n",
    "theoretical_mean = 1000 + 5 * 600 "
   ]
  },
  {
   "cell_type": "code",
   "execution_count": 3,
   "id": "b44f9dd9-29f9-42a0-a300-364c78132d79",
   "metadata": {},
   "outputs": [],
   "source": [
    "# Calculate theoretical mean\n",
    "std_dev = 5 * 25\n",
    "# Standard deviation of cost per unit\n",
    "sample_size = 25"
   ]
  },
  {
   "cell_type": "markdown",
   "id": "15ebc4a2-38a1-4122-bbac-144b52c231dd",
   "metadata": {},
   "source": [
    "## Task 1: Stats the Hypotheses"
   ]
  },
  {
   "cell_type": "code",
   "execution_count": 4,
   "id": "f6a2617b-2c3d-49fd-9e25-3bfc162293b5",
   "metadata": {},
   "outputs": [
    {
     "name": "stdout",
     "output_type": "stream",
     "text": [
      "H0: μ = theoretical_mean (No increase in weekly operating costs)\n",
      "H1: μ > theoretical_mean (Increase in weekly operatingcosts)\n"
     ]
    }
   ],
   "source": [
    "print(\"H0: μ = theoretical_mean (No increase in weekly operating costs)\")\n",
    "print(\"H1: μ > theoretical_mean (Increase in weekly operatingcosts)\")"
   ]
  },
  {
   "cell_type": "markdown",
   "id": "00b97067-b626-4351-8340-579215c1f49d",
   "metadata": {},
   "source": [
    "## Task 2: Calculate the Test Statistic"
   ]
  },
  {
   "cell_type": "code",
   "execution_count": 5,
   "id": "fac38760-580d-40b6-a548-13ff9d3b1d82",
   "metadata": {},
   "outputs": [
    {
     "name": "stdout",
     "output_type": "stream",
     "text": [
      "Test Statistic (t): -38.0000\n"
     ]
    }
   ],
   "source": [
    "theoretical_meean = 1000 + 5 * 600 # 3100\n",
    "test_statistic = (sample_mean - theoretical_mean) / (std_dev / np.sqrt(sample_size))\n",
    "print(f\"Test Statistic (t): {test_statistic:.4f}\")"
   ]
  },
  {
   "cell_type": "markdown",
   "id": "760bd451-f4f2-4899-b785-b6f1e9dfb5a2",
   "metadata": {},
   "source": [
    "## Task 3: Determine the Critical Value"
   ]
  },
  {
   "cell_type": "code",
   "execution_count": 6,
   "id": "def5be71-c2ad-46e7-bff3-b9dbe2c47040",
   "metadata": {},
   "outputs": [
    {
     "name": "stdout",
     "output_type": "stream",
     "text": [
      "Critical Value (Z): 1.6449\n"
     ]
    }
   ],
   "source": [
    "alpha = 0.05\n",
    "critical_value = stats.norm.ppf(1 - alpha)\n",
    "print(f\"Critical Value (Z): {critical_value:.4f}\")"
   ]
  },
  {
   "cell_type": "markdown",
   "id": "17c8719f-4621-45d3-bf80-af86d503be87",
   "metadata": {},
   "source": [
    "## Task 4: Make a Decision"
   ]
  },
  {
   "cell_type": "code",
   "execution_count": 7,
   "id": "2450da8d-04df-4c15-ab19-bdfea1216898",
   "metadata": {},
   "outputs": [
    {
     "name": "stdout",
     "output_type": "stream",
     "text": [
      "Fail to reject H0. No strong evidence to support the restaurant owners' claim,\n"
     ]
    }
   ],
   "source": [
    "if test_statistic > critical_value:\n",
    "    print(\"Reject H0. There is strong evidence to support the restaurant owners'claim.\")\n",
    "else:\n",
    "    print(\"Fail to reject H0. No strong evidence to support the restaurant owners' claim,\")"
   ]
  },
  {
   "cell_type": "markdown",
   "id": "2b0117eb-412c-4661-91d8-1abfef0ccaf6",
   "metadata": {},
   "source": [
    "## Task 5: Conclusion"
   ]
  },
  {
   "cell_type": "code",
   "execution_count": 11,
   "id": "c602032e-7ac0-4b99-9b83-84f41c4a4cc5",
   "metadata": {},
   "outputs": [
    {
     "name": "stdout",
     "output_type": "stream",
     "text": [
      "The data does not provide sufficient evidence to support the claim ofincreased weekly operating costs.\n"
     ]
    }
   ],
   "source": [
    "if test_statistic > critical_value: \n",
    "    print(\"The data suggests that the weekly operating costs are higher than the model suggests.\")\n",
    "else:\n",
    "    print(\"The data does not provide sufficient evidence to support the claim ofincreased weekly operating costs.\")"
   ]
  },
  {
   "cell_type": "code",
   "execution_count": null,
   "id": "f782751b-1c33-4cf4-9c66-9af3839ff0aa",
   "metadata": {},
   "outputs": [],
   "source": []
  }
 ],
 "metadata": {
  "kernelspec": {
   "display_name": "Python 3 (ipykernel)",
   "language": "python",
   "name": "python3"
  },
  "language_info": {
   "codemirror_mode": {
    "name": "ipython",
    "version": 3
   },
   "file_extension": ".py",
   "mimetype": "text/x-python",
   "name": "python",
   "nbconvert_exporter": "python",
   "pygments_lexer": "ipython3",
   "version": "3.11.9"
  }
 },
 "nbformat": 4,
 "nbformat_minor": 5
}
