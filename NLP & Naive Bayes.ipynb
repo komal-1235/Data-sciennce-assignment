{
 "cells": [
  {
   "cell_type": "markdown",
   "id": "941149a3-6a8a-40aa-81ca-e0ec2512b040",
   "metadata": {},
   "source": [
    "## Import Libraries"
   ]
  },
  {
   "cell_type": "code",
   "execution_count": 1,
   "id": "c522b024-574f-4be4-96e9-833613d37e34",
   "metadata": {},
   "outputs": [],
   "source": [
    "import pandas as pd\n",
    "import numpy as np\n",
    "import matplotlib.pyplot as plt\n",
    "import seaborn as sns\n",
    "from sklearn.feature_extraction.text import TfidfVectorizer\n",
    "from sklearn.model_selection import train_test_split\n",
    "import re\n",
    "import plotly.express as px\n",
    "import plotly.graph_objects as go"
   ]
  },
  {
   "cell_type": "markdown",
   "id": "c156d664-1911-4298-9747-a76ed67e7dd1",
   "metadata": {},
   "source": [
    "## Import Dataset"
   ]
  },
  {
   "cell_type": "code",
   "execution_count": 2,
   "id": "b1052cfe-6b50-42da-b41e-503619020285",
   "metadata": {},
   "outputs": [
    {
     "name": "stderr",
     "output_type": "stream",
     "text": [
      "C:\\Users\\HP\\AppData\\Local\\Temp\\ipykernel_12340\\3390495791.py:1: DtypeWarning: Columns (7,8,9,10,11,12,13,14,15,16,17,18,19,20,21,22,23,24,25,26,27,28,29,30,31,32,33,34,35,36) have mixed types. Specify dtype option on import or set low_memory=False.\n",
      "  df = pd.read_csv(\"blogs.csv\")\n"
     ]
    }
   ],
   "source": [
    "df = pd.read_csv(\"blogs.csv\")"
   ]
  },
  {
   "cell_type": "code",
   "execution_count": 3,
   "id": "7b595385-036c-41ef-b5a3-2ce44efe0ae4",
   "metadata": {},
   "outputs": [
    {
     "data": {
      "text/html": [
       "<div>\n",
       "<style scoped>\n",
       "    .dataframe tbody tr th:only-of-type {\n",
       "        vertical-align: middle;\n",
       "    }\n",
       "\n",
       "    .dataframe tbody tr th {\n",
       "        vertical-align: top;\n",
       "    }\n",
       "\n",
       "    .dataframe thead th {\n",
       "        text-align: right;\n",
       "    }\n",
       "</style>\n",
       "<table border=\"1\" class=\"dataframe\">\n",
       "  <thead>\n",
       "    <tr style=\"text-align: right;\">\n",
       "      <th></th>\n",
       "      <th>Data</th>\n",
       "      <th>Labels</th>\n",
       "      <th>Unnamed: 2</th>\n",
       "      <th>Unnamed: 3</th>\n",
       "      <th>Unnamed: 4</th>\n",
       "      <th>Unnamed: 5</th>\n",
       "      <th>Unnamed: 6</th>\n",
       "      <th>Unnamed: 7</th>\n",
       "      <th>Unnamed: 8</th>\n",
       "      <th>Unnamed: 9</th>\n",
       "      <th>...</th>\n",
       "      <th>Unnamed: 27</th>\n",
       "      <th>Unnamed: 28</th>\n",
       "      <th>Unnamed: 29</th>\n",
       "      <th>Unnamed: 30</th>\n",
       "      <th>Unnamed: 31</th>\n",
       "      <th>Unnamed: 32</th>\n",
       "      <th>Unnamed: 33</th>\n",
       "      <th>Unnamed: 34</th>\n",
       "      <th>Unnamed: 35</th>\n",
       "      <th>Unnamed: 36</th>\n",
       "    </tr>\n",
       "  </thead>\n",
       "  <tbody>\n",
       "    <tr>\n",
       "      <th>0</th>\n",
       "      <td>Path: cantaloupe.srv.cs.cmu.edu!magnesium.club...</td>\n",
       "      <td>alt.atheism</td>\n",
       "      <td>NaN</td>\n",
       "      <td>NaN</td>\n",
       "      <td>NaN</td>\n",
       "      <td>NaN</td>\n",
       "      <td>NaN</td>\n",
       "      <td>NaN</td>\n",
       "      <td>NaN</td>\n",
       "      <td>NaN</td>\n",
       "      <td>...</td>\n",
       "      <td>NaN</td>\n",
       "      <td>NaN</td>\n",
       "      <td>NaN</td>\n",
       "      <td>NaN</td>\n",
       "      <td>NaN</td>\n",
       "      <td>NaN</td>\n",
       "      <td>NaN</td>\n",
       "      <td>NaN</td>\n",
       "      <td>NaN</td>\n",
       "      <td>NaN</td>\n",
       "    </tr>\n",
       "    <tr>\n",
       "      <th>1</th>\n",
       "      <td>Newsgroups: alt.atheism\\nPath: cantaloupe.srv....</td>\n",
       "      <td>alt.atheism</td>\n",
       "      <td>NaN</td>\n",
       "      <td>NaN</td>\n",
       "      <td>NaN</td>\n",
       "      <td>NaN</td>\n",
       "      <td>NaN</td>\n",
       "      <td>NaN</td>\n",
       "      <td>NaN</td>\n",
       "      <td>NaN</td>\n",
       "      <td>...</td>\n",
       "      <td>NaN</td>\n",
       "      <td>NaN</td>\n",
       "      <td>NaN</td>\n",
       "      <td>NaN</td>\n",
       "      <td>NaN</td>\n",
       "      <td>NaN</td>\n",
       "      <td>NaN</td>\n",
       "      <td>NaN</td>\n",
       "      <td>NaN</td>\n",
       "      <td>NaN</td>\n",
       "    </tr>\n",
       "    <tr>\n",
       "      <th>2</th>\n",
       "      <td>Path: cantaloupe.srv.cs.cmu.edu!das-news.harva...</td>\n",
       "      <td>alt.atheism</td>\n",
       "      <td>NaN</td>\n",
       "      <td>NaN</td>\n",
       "      <td>NaN</td>\n",
       "      <td>NaN</td>\n",
       "      <td>NaN</td>\n",
       "      <td>NaN</td>\n",
       "      <td>NaN</td>\n",
       "      <td>NaN</td>\n",
       "      <td>...</td>\n",
       "      <td>NaN</td>\n",
       "      <td>NaN</td>\n",
       "      <td>NaN</td>\n",
       "      <td>NaN</td>\n",
       "      <td>NaN</td>\n",
       "      <td>NaN</td>\n",
       "      <td>NaN</td>\n",
       "      <td>NaN</td>\n",
       "      <td>NaN</td>\n",
       "      <td>NaN</td>\n",
       "    </tr>\n",
       "    <tr>\n",
       "      <th>3</th>\n",
       "      <td>Path: cantaloupe.srv.cs.cmu.edu!magnesium.club...</td>\n",
       "      <td>alt.atheism</td>\n",
       "      <td>NaN</td>\n",
       "      <td>NaN</td>\n",
       "      <td>NaN</td>\n",
       "      <td>NaN</td>\n",
       "      <td>NaN</td>\n",
       "      <td>NaN</td>\n",
       "      <td>NaN</td>\n",
       "      <td>NaN</td>\n",
       "      <td>...</td>\n",
       "      <td>NaN</td>\n",
       "      <td>NaN</td>\n",
       "      <td>NaN</td>\n",
       "      <td>NaN</td>\n",
       "      <td>NaN</td>\n",
       "      <td>NaN</td>\n",
       "      <td>NaN</td>\n",
       "      <td>NaN</td>\n",
       "      <td>NaN</td>\n",
       "      <td>NaN</td>\n",
       "    </tr>\n",
       "    <tr>\n",
       "      <th>4</th>\n",
       "      <td>Xref: cantaloupe.srv.cs.cmu.edu alt.atheism:53...</td>\n",
       "      <td>alt.atheism</td>\n",
       "      <td>NaN</td>\n",
       "      <td>NaN</td>\n",
       "      <td>NaN</td>\n",
       "      <td>NaN</td>\n",
       "      <td>NaN</td>\n",
       "      <td>NaN</td>\n",
       "      <td>NaN</td>\n",
       "      <td>NaN</td>\n",
       "      <td>...</td>\n",
       "      <td>NaN</td>\n",
       "      <td>NaN</td>\n",
       "      <td>NaN</td>\n",
       "      <td>NaN</td>\n",
       "      <td>NaN</td>\n",
       "      <td>NaN</td>\n",
       "      <td>NaN</td>\n",
       "      <td>NaN</td>\n",
       "      <td>NaN</td>\n",
       "      <td>NaN</td>\n",
       "    </tr>\n",
       "    <tr>\n",
       "      <th>...</th>\n",
       "      <td>...</td>\n",
       "      <td>...</td>\n",
       "      <td>...</td>\n",
       "      <td>...</td>\n",
       "      <td>...</td>\n",
       "      <td>...</td>\n",
       "      <td>...</td>\n",
       "      <td>...</td>\n",
       "      <td>...</td>\n",
       "      <td>...</td>\n",
       "      <td>...</td>\n",
       "      <td>...</td>\n",
       "      <td>...</td>\n",
       "      <td>...</td>\n",
       "      <td>...</td>\n",
       "      <td>...</td>\n",
       "      <td>...</td>\n",
       "      <td>...</td>\n",
       "      <td>...</td>\n",
       "      <td>...</td>\n",
       "      <td>...</td>\n",
       "    </tr>\n",
       "    <tr>\n",
       "      <th>93817</th>\n",
       "      <td>And make her infamous in story.</td>\n",
       "      <td>NaN</td>\n",
       "      <td>NaN</td>\n",
       "      <td>NaN</td>\n",
       "      <td>NaN</td>\n",
       "      <td>NaN</td>\n",
       "      <td>NaN</td>\n",
       "      <td>NaN</td>\n",
       "      <td>NaN</td>\n",
       "      <td>NaN</td>\n",
       "      <td>...</td>\n",
       "      <td>NaN</td>\n",
       "      <td>NaN</td>\n",
       "      <td>NaN</td>\n",
       "      <td>NaN</td>\n",
       "      <td>NaN</td>\n",
       "      <td>NaN</td>\n",
       "      <td>NaN</td>\n",
       "      <td>NaN</td>\n",
       "      <td>NaN</td>\n",
       "      <td>NaN</td>\n",
       "    </tr>\n",
       "    <tr>\n",
       "      <th>93818</th>\n",
       "      <td>When such a tempest shook the land</td>\n",
       "      <td>NaN</td>\n",
       "      <td>NaN</td>\n",
       "      <td>NaN</td>\n",
       "      <td>NaN</td>\n",
       "      <td>NaN</td>\n",
       "      <td>NaN</td>\n",
       "      <td>NaN</td>\n",
       "      <td>NaN</td>\n",
       "      <td>NaN</td>\n",
       "      <td>...</td>\n",
       "      <td>NaN</td>\n",
       "      <td>NaN</td>\n",
       "      <td>NaN</td>\n",
       "      <td>NaN</td>\n",
       "      <td>NaN</td>\n",
       "      <td>NaN</td>\n",
       "      <td>NaN</td>\n",
       "      <td>NaN</td>\n",
       "      <td>NaN</td>\n",
       "      <td>NaN</td>\n",
       "    </tr>\n",
       "    <tr>\n",
       "      <th>93819</th>\n",
       "      <td>How could unguarded virtue stand ?\"\"</td>\n",
       "      <td>NaN</td>\n",
       "      <td>NaN</td>\n",
       "      <td>NaN</td>\n",
       "      <td>NaN</td>\n",
       "      <td>NaN</td>\n",
       "      <td>NaN</td>\n",
       "      <td>NaN</td>\n",
       "      <td>NaN</td>\n",
       "      <td>NaN</td>\n",
       "      <td>...</td>\n",
       "      <td>NaN</td>\n",
       "      <td>NaN</td>\n",
       "      <td>NaN</td>\n",
       "      <td>NaN</td>\n",
       "      <td>NaN</td>\n",
       "      <td>NaN</td>\n",
       "      <td>NaN</td>\n",
       "      <td>NaN</td>\n",
       "      <td>NaN</td>\n",
       "      <td>NaN</td>\n",
       "    </tr>\n",
       "    <tr>\n",
       "      <th>93820</th>\n",
       "      <td>- Jonathan Swift (1732)</td>\n",
       "      <td>NaN</td>\n",
       "      <td>NaN</td>\n",
       "      <td>NaN</td>\n",
       "      <td>NaN</td>\n",
       "      <td>NaN</td>\n",
       "      <td>NaN</td>\n",
       "      <td>NaN</td>\n",
       "      <td>NaN</td>\n",
       "      <td>NaN</td>\n",
       "      <td>...</td>\n",
       "      <td>NaN</td>\n",
       "      <td>NaN</td>\n",
       "      <td>NaN</td>\n",
       "      <td>NaN</td>\n",
       "      <td>NaN</td>\n",
       "      <td>NaN</td>\n",
       "      <td>NaN</td>\n",
       "      <td>NaN</td>\n",
       "      <td>NaN</td>\n",
       "      <td>NaN</td>\n",
       "    </tr>\n",
       "    <tr>\n",
       "      <th>93821</th>\n",
       "      <td>,talk.religion.misc\\r\\n</td>\n",
       "      <td>NaN</td>\n",
       "      <td>NaN</td>\n",
       "      <td>NaN</td>\n",
       "      <td>NaN</td>\n",
       "      <td>NaN</td>\n",
       "      <td>NaN</td>\n",
       "      <td>NaN</td>\n",
       "      <td>NaN</td>\n",
       "      <td>NaN</td>\n",
       "      <td>...</td>\n",
       "      <td>NaN</td>\n",
       "      <td>NaN</td>\n",
       "      <td>NaN</td>\n",
       "      <td>NaN</td>\n",
       "      <td>NaN</td>\n",
       "      <td>NaN</td>\n",
       "      <td>NaN</td>\n",
       "      <td>NaN</td>\n",
       "      <td>NaN</td>\n",
       "      <td>NaN</td>\n",
       "    </tr>\n",
       "  </tbody>\n",
       "</table>\n",
       "<p>93822 rows × 37 columns</p>\n",
       "</div>"
      ],
      "text/plain": [
       "                                                    Data       Labels  \\\n",
       "0      Path: cantaloupe.srv.cs.cmu.edu!magnesium.club...  alt.atheism   \n",
       "1      Newsgroups: alt.atheism\\nPath: cantaloupe.srv....  alt.atheism   \n",
       "2      Path: cantaloupe.srv.cs.cmu.edu!das-news.harva...  alt.atheism   \n",
       "3      Path: cantaloupe.srv.cs.cmu.edu!magnesium.club...  alt.atheism   \n",
       "4      Xref: cantaloupe.srv.cs.cmu.edu alt.atheism:53...  alt.atheism   \n",
       "...                                                  ...          ...   \n",
       "93817                    And make her infamous in story.          NaN   \n",
       "93818                 When such a tempest shook the land          NaN   \n",
       "93819               How could unguarded virtue stand ?\"\"          NaN   \n",
       "93820                            - Jonathan Swift (1732)          NaN   \n",
       "93821                            ,talk.religion.misc\\r\\n          NaN   \n",
       "\n",
       "      Unnamed: 2 Unnamed: 3 Unnamed: 4 Unnamed: 5 Unnamed: 6 Unnamed: 7  \\\n",
       "0            NaN        NaN        NaN        NaN        NaN        NaN   \n",
       "1            NaN        NaN        NaN        NaN        NaN        NaN   \n",
       "2            NaN        NaN        NaN        NaN        NaN        NaN   \n",
       "3            NaN        NaN        NaN        NaN        NaN        NaN   \n",
       "4            NaN        NaN        NaN        NaN        NaN        NaN   \n",
       "...          ...        ...        ...        ...        ...        ...   \n",
       "93817        NaN        NaN        NaN        NaN        NaN        NaN   \n",
       "93818        NaN        NaN        NaN        NaN        NaN        NaN   \n",
       "93819        NaN        NaN        NaN        NaN        NaN        NaN   \n",
       "93820        NaN        NaN        NaN        NaN        NaN        NaN   \n",
       "93821        NaN        NaN        NaN        NaN        NaN        NaN   \n",
       "\n",
       "      Unnamed: 8 Unnamed: 9  ... Unnamed: 27 Unnamed: 28 Unnamed: 29  \\\n",
       "0            NaN        NaN  ...         NaN         NaN         NaN   \n",
       "1            NaN        NaN  ...         NaN         NaN         NaN   \n",
       "2            NaN        NaN  ...         NaN         NaN         NaN   \n",
       "3            NaN        NaN  ...         NaN         NaN         NaN   \n",
       "4            NaN        NaN  ...         NaN         NaN         NaN   \n",
       "...          ...        ...  ...         ...         ...         ...   \n",
       "93817        NaN        NaN  ...         NaN         NaN         NaN   \n",
       "93818        NaN        NaN  ...         NaN         NaN         NaN   \n",
       "93819        NaN        NaN  ...         NaN         NaN         NaN   \n",
       "93820        NaN        NaN  ...         NaN         NaN         NaN   \n",
       "93821        NaN        NaN  ...         NaN         NaN         NaN   \n",
       "\n",
       "      Unnamed: 30 Unnamed: 31 Unnamed: 32 Unnamed: 33 Unnamed: 34 Unnamed: 35  \\\n",
       "0             NaN         NaN         NaN         NaN         NaN         NaN   \n",
       "1             NaN         NaN         NaN         NaN         NaN         NaN   \n",
       "2             NaN         NaN         NaN         NaN         NaN         NaN   \n",
       "3             NaN         NaN         NaN         NaN         NaN         NaN   \n",
       "4             NaN         NaN         NaN         NaN         NaN         NaN   \n",
       "...           ...         ...         ...         ...         ...         ...   \n",
       "93817         NaN         NaN         NaN         NaN         NaN         NaN   \n",
       "93818         NaN         NaN         NaN         NaN         NaN         NaN   \n",
       "93819         NaN         NaN         NaN         NaN         NaN         NaN   \n",
       "93820         NaN         NaN         NaN         NaN         NaN         NaN   \n",
       "93821         NaN         NaN         NaN         NaN         NaN         NaN   \n",
       "\n",
       "      Unnamed: 36  \n",
       "0             NaN  \n",
       "1             NaN  \n",
       "2             NaN  \n",
       "3             NaN  \n",
       "4             NaN  \n",
       "...           ...  \n",
       "93817         NaN  \n",
       "93818         NaN  \n",
       "93819         NaN  \n",
       "93820         NaN  \n",
       "93821         NaN  \n",
       "\n",
       "[93822 rows x 37 columns]"
      ]
     },
     "execution_count": 3,
     "metadata": {},
     "output_type": "execute_result"
    }
   ],
   "source": [
    "df"
   ]
  },
  {
   "cell_type": "code",
   "execution_count": 4,
   "id": "d851b888-4d4d-4eb7-9492-a1406a61f487",
   "metadata": {},
   "outputs": [
    {
     "name": "stdout",
     "output_type": "stream",
     "text": [
      "Index(['Data', 'Labels', 'Unnamed: 2', 'Unnamed: 3', 'Unnamed: 4',\n",
      "       'Unnamed: 5', 'Unnamed: 6', 'Unnamed: 7', 'Unnamed: 8', 'Unnamed: 9',\n",
      "       'Unnamed: 10', 'Unnamed: 11', 'Unnamed: 12', 'Unnamed: 13',\n",
      "       'Unnamed: 14', 'Unnamed: 15', 'Unnamed: 16', 'Unnamed: 17',\n",
      "       'Unnamed: 18', 'Unnamed: 19', 'Unnamed: 20', 'Unnamed: 21',\n",
      "       'Unnamed: 22', 'Unnamed: 23', 'Unnamed: 24', 'Unnamed: 25',\n",
      "       'Unnamed: 26', 'Unnamed: 27', 'Unnamed: 28', 'Unnamed: 29',\n",
      "       'Unnamed: 30', 'Unnamed: 31', 'Unnamed: 32', 'Unnamed: 33',\n",
      "       'Unnamed: 34', 'Unnamed: 35', 'Unnamed: 36'],\n",
      "      dtype='object')\n"
     ]
    }
   ],
   "source": [
    "# Verify column existence\n",
    "print(df.columns)"
   ]
  },
  {
   "cell_type": "code",
   "execution_count": 5,
   "id": "53e96da7-e590-4b7c-85d6-0d347f5dea0f",
   "metadata": {},
   "outputs": [
    {
     "name": "stdout",
     "output_type": "stream",
     "text": [
      "<class 'pandas.core.frame.DataFrame'>\n",
      "RangeIndex: 93822 entries, 0 to 93821\n",
      "Data columns (total 37 columns):\n",
      " #   Column       Non-Null Count  Dtype \n",
      "---  ------       --------------  ----- \n",
      " 0   Data         79441 non-null  object\n",
      " 1   Labels       20518 non-null  object\n",
      " 2   Unnamed: 2   5535 non-null   object\n",
      " 3   Unnamed: 3   1411 non-null   object\n",
      " 4   Unnamed: 4   448 non-null    object\n",
      " 5   Unnamed: 5   145 non-null    object\n",
      " 6   Unnamed: 6   59 non-null     object\n",
      " 7   Unnamed: 7   31 non-null     object\n",
      " 8   Unnamed: 8   22 non-null     object\n",
      " 9   Unnamed: 9   20 non-null     object\n",
      " 10  Unnamed: 10  15 non-null     object\n",
      " 11  Unnamed: 11  11 non-null     object\n",
      " 12  Unnamed: 12  4 non-null      object\n",
      " 13  Unnamed: 13  3 non-null      object\n",
      " 14  Unnamed: 14  2 non-null      object\n",
      " 15  Unnamed: 15  2 non-null      object\n",
      " 16  Unnamed: 16  2 non-null      object\n",
      " 17  Unnamed: 17  2 non-null      object\n",
      " 18  Unnamed: 18  2 non-null      object\n",
      " 19  Unnamed: 19  2 non-null      object\n",
      " 20  Unnamed: 20  2 non-null      object\n",
      " 21  Unnamed: 21  1 non-null      object\n",
      " 22  Unnamed: 22  1 non-null      object\n",
      " 23  Unnamed: 23  1 non-null      object\n",
      " 24  Unnamed: 24  1 non-null      object\n",
      " 25  Unnamed: 25  1 non-null      object\n",
      " 26  Unnamed: 26  1 non-null      object\n",
      " 27  Unnamed: 27  1 non-null      object\n",
      " 28  Unnamed: 28  1 non-null      object\n",
      " 29  Unnamed: 29  1 non-null      object\n",
      " 30  Unnamed: 30  1 non-null      object\n",
      " 31  Unnamed: 31  1 non-null      object\n",
      " 32  Unnamed: 32  1 non-null      object\n",
      " 33  Unnamed: 33  1 non-null      object\n",
      " 34  Unnamed: 34  1 non-null      object\n",
      " 35  Unnamed: 35  1 non-null      object\n",
      " 36  Unnamed: 36  1 non-null      object\n",
      "dtypes: object(37)\n",
      "memory usage: 26.5+ MB\n"
     ]
    }
   ],
   "source": [
    "df.info()"
   ]
  },
  {
   "cell_type": "code",
   "execution_count": 6,
   "id": "44e7b209-c031-4a80-a483-9fab794c983c",
   "metadata": {},
   "outputs": [
    {
     "name": "stdout",
     "output_type": "stream",
     "text": [
      "         Data Labels Unnamed: 2 Unnamed: 3 Unnamed: 4     Unnamed: 5  \\\n",
      "count   79441  20518       5535       1411        448            145   \n",
      "unique  64522  17371       4349       1082        328            102   \n",
      "top         >                                          comp.org.ieee   \n",
      "freq      996    165        112         64         21             10   \n",
      "\n",
      "       Unnamed: 6              Unnamed: 7              Unnamed: 8  \\\n",
      "count          59                      31                      22   \n",
      "unique         43                      23                      16   \n",
      "top                soc.culture.yugoslavia  soc.culture.afganistan   \n",
      "freq            6                       4                       4   \n",
      "\n",
      "                   Unnamed: 9  ... Unnamed: 27 Unnamed: 28  Unnamed: 29  \\\n",
      "count                      20  ...           1           1            1   \n",
      "unique                     13  ...           1           1            1   \n",
      "top     talk.politics.mideast  ...                                        \n",
      "freq                        6  ...           1           1            1   \n",
      "\n",
      "       Unnamed: 30 Unnamed: 31 Unnamed: 32 Unnamed: 33 Unnamed: 34  \\\n",
      "count            1           1           1           1           1   \n",
      "unique           1           1           1           1           1   \n",
      "top                                                                  \n",
      "freq             1           1           1           1           1   \n",
      "\n",
      "       Unnamed: 35 Unnamed: 36  \n",
      "count            1           1  \n",
      "unique           1           1  \n",
      "top                             \n",
      "freq             1           1  \n",
      "\n",
      "[4 rows x 37 columns]\n"
     ]
    }
   ],
   "source": [
    "print(df.describe())"
   ]
  },
  {
   "cell_type": "code",
   "execution_count": 7,
   "id": "d1762320-1f74-4a98-950e-39b8806525ff",
   "metadata": {},
   "outputs": [
    {
     "data": {
      "text/plain": [
       "<Axes: xlabel='Unnamed: 7'>"
      ]
     },
     "execution_count": 7,
     "metadata": {},
     "output_type": "execute_result"
    },
    {
     "data": {
      "image/png": "[encoded data removed]",
      "text/plain": [
       "<Figure size 640x480 with 1 Axes>"
      ]
     },
     "metadata": {},
     "output_type": "display_data"
    }
   ],
   "source": [
    "import matplotlib.pyplot as plt\n",
    "df['Unnamed: 7'].value_counts().plot(kind='bar')"
   ]
  },
  {
   "cell_type": "code",
   "execution_count": 8,
   "id": "169db366-ccef-4898-a6a0-f1426bb7cf94",
   "metadata": {},
   "outputs": [
    {
     "data": {
      "image/png": "[encoded data removed]",
      "text/plain": [
       "<Figure size 640x480 with 1 Axes>"
      ]
     },
     "metadata": {},
     "output_type": "display_data"
    }
   ],
   "source": [
    "# Visualize data distribution\n",
    "import matplotlib.pyplot as plt\n",
    "df['Unnamed: 6'].value_counts().plot(kind='bar')\n",
    "plt.show()"
   ]
  },
  {
   "cell_type": "code",
   "execution_count": 9,
   "id": "db34d9af-c27e-42fb-9766-619fffa91fd0",
   "metadata": {},
   "outputs": [
    {
     "data": {
      "text/plain": [
       "Text(0.5, 0, 'Unnamed: 13')"
      ]
     },
     "execution_count": 9,
     "metadata": {},
     "output_type": "execute_result"
    },
    {
     "data": {
      "image/png": "[encoded data removed]",
      "text/plain": [
       "<Figure size 640x480 with 1 Axes>"
      ]
     },
     "metadata": {},
     "output_type": "display_data"
    }
   ],
   "source": [
    "sns.countplot(x=df['Unnamed: 8'])\n",
    "plt.xlabel(\"Unnamed: 13\")"
   ]
  },
  {
   "cell_type": "code",
   "execution_count": 10,
   "id": "b142a5cc-3081-47e5-934c-449a0093abdf",
   "metadata": {},
   "outputs": [
    {
     "data": {
      "text/plain": [
       "Text(0.5, 0, 'Unnamed: 3')"
      ]
     },
     "execution_count": 10,
     "metadata": {},
     "output_type": "execute_result"
    },
    {
     "data": {
      "image/png": "[encoded data removed]",
      "text/plain": [
       "<Figure size 640x480 with 1 Axes>"
      ]
     },
     "metadata": {},
     "output_type": "display_data"
    }
   ],
   "source": [
    "sns.countplot(x=df['Unnamed: 10'])\n",
    "plt.xlabel(\"Unnamed: 3\")"
   ]
  },
  {
   "cell_type": "code",
   "execution_count": 11,
   "id": "6ad34877-1f9f-4298-8a72-015a9eec0957",
   "metadata": {},
   "outputs": [
    {
     "data": {
      "text/plain": [
       "<Axes: >"
      ]
     },
     "execution_count": 11,
     "metadata": {},
     "output_type": "execute_result"
    },
    {
     "data": {
      "image/png": "[encoded data removed]",
      "text/plain": [
       "<Figure size 640x480 with 1 Axes>"
      ]
     },
     "metadata": {},
     "output_type": "display_data"
    }
   ],
   "source": [
    "df['Unnamed: 10'].str.len().hist()"
   ]
  },
  {
   "cell_type": "code",
   "execution_count": 12,
   "id": "5be5da91-684d-4ef8-bbd0-dc3ceeeb31bd",
   "metadata": {},
   "outputs": [],
   "source": [
    "from sklearn.naive_bayes import MultinomialNB\n",
    "from sklearn.metrics import accuracy_score, precision_score, recall_score, f1_score"
   ]
  },
  {
   "cell_type": "code",
   "execution_count": 13,
   "id": "6eed5fc7-0211-4d1e-8ea8-1cf533928495",
   "metadata": {},
   "outputs": [],
   "source": [
    "import pandas as pd\n",
    "import nltk\n",
    "from nltk.tokenize import word_tokenize\n",
    "from nltk.corpus import stopwords\n",
    "from nltk.stem import WordNetLemmatizer\n",
    "import re\n",
    "from sklearn.feature_extraction.text import TfidfVectorizer"
   ]
  },
  {
   "cell_type": "code",
   "execution_count": 15,
   "id": "cc16341c-9c83-42ed-a1df-a9adb088e735",
   "metadata": {},
   "outputs": [
    {
     "name": "stderr",
     "output_type": "stream",
     "text": [
      "[nltk_data] Downloading package stopwords to\n",
      "[nltk_data]     C:\\Users\\HP\\AppData\\Roaming\\nltk_data...\n",
      "[nltk_data]   Unzipping corpora\\stopwords.zip.\n"
     ]
    }
   ],
   "source": [
    "# Preprocess text data\n",
    "nltk.download('stopwords')\n",
    "stop_words = set(stopwords.words('english'))"
   ]
  },
  {
   "cell_type": "code",
   "execution_count": 25,
   "id": "4d19f06a-e941-4a02-a937-6262bd66444d",
   "metadata": {},
   "outputs": [],
   "source": [
    "def preprocess_text(text):\n",
    "    tokens = word_tokenize(text)\n",
    "    tokens = [t.lower() for t in tokens if t.isalpha()]\n",
    "    tokens = [t for t in tokens if t not in stop_words]\n",
    "    return ' '.join(tokens)"
   ]
  },
  {
   "cell_type": "code",
   "execution_count": 29,
   "id": "2999589e-ac7f-4c9b-9052-ad12a2eeb5ec",
   "metadata": {},
   "outputs": [],
   "source": [
    "# Split data into training and testing sets\n",
    "X_train, X_test, y_train, y_test = train_test_split(df['Data'], df['Labels'], test_size=0.2, random_state=42)\n"
   ]
  },
  {
   "cell_type": "code",
   "execution_count": 43,
   "id": "4e214a87-f193-4d24-ab12-98b058d41179",
   "metadata": {},
   "outputs": [
    {
     "name": "stdout",
     "output_type": "stream",
     "text": [
      "object\n"
     ]
    }
   ],
   "source": [
    "# Check data type\n",
    "print(X_train.dtypes)"
   ]
  },
  {
   "cell_type": "code",
   "execution_count": 44,
   "id": "1b394819-c93d-4da3-94a8-87760f90aba1",
   "metadata": {},
   "outputs": [],
   "source": [
    "# Convert data to string if necessary\n",
    "X_train = X_train.astype(str)"
   ]
  },
  {
   "cell_type": "code",
   "execution_count": 47,
   "id": "a46aa174-2a32-4779-8ce7-26b72c5abf5e",
   "metadata": {},
   "outputs": [],
   "source": [
    "# Remove rows with missing values\n",
    "X_train = X_train.dropna()"
   ]
  },
  {
   "cell_type": "code",
   "execution_count": 48,
   "id": "d2c98cba-5951-4858-8ad8-59ec27724699",
   "metadata": {},
   "outputs": [],
   "source": [
    "# Replace empty strings with NaN and remove\n",
    "X_train = X_train.replace('', np.nan)\n",
    "X_train = X_train.dropna()"
   ]
  },
  {
   "cell_type": "code",
   "execution_count": 49,
   "id": "24fa393d-6c03-46c0-bfad-642a023279ed",
   "metadata": {},
   "outputs": [],
   "source": [
    "# Apply TfidfVectorizer\n",
    "vectorizer = TfidfVectorizer()\n",
    "X_train_numeric = vectorizer.fit_transform(X_train)"
   ]
  },
  {
   "cell_type": "code",
   "execution_count": 50,
   "id": "061c08b0-e17b-4486-883c-cbe95e1e1fec",
   "metadata": {},
   "outputs": [
    {
     "name": "stdout",
     "output_type": "stream",
     "text": [
      "65601         & etc.).  But can they put aside the assu...\n",
      "30959               NNTP-Posting-Host: cogsci.berkeley.edu\n",
      "85098    >>>(Interesting side note-have any new insuran...\n",
      "22088                                   over telnet?  Also\n",
      "48712                                       (919) 248-1837\n",
      "Name: Data, dtype: object\n",
      "<class 'pandas.core.series.Series'>\n",
      "Index: 75057 entries, 65601 to 15795\n",
      "Series name: Data\n",
      "Non-Null Count  Dtype \n",
      "--------------  ----- \n",
      "75057 non-null  object\n",
      "dtypes: object(1)\n",
      "memory usage: 1.1+ MB\n",
      "None\n",
      "count     75057\n",
      "unique    52186\n",
      "top         nan\n",
      "freq      11405\n",
      "Name: Data, dtype: object\n"
     ]
    }
   ],
   "source": [
    "print(X_train.head())\n",
    "print(X_train.info())\n",
    "print(X_train.describe())"
   ]
  },
  {
   "cell_type": "code",
   "execution_count": 57,
   "id": "c6342934-97ee-48ec-8f94-86060ea37053",
   "metadata": {},
   "outputs": [],
   "source": [
    "# Split data into training and testing sets\n",
    "X_train, X_test, y_train, y_test = train_test_split(df['Data'], df['Data'], test_size=0.2, random_state=42)"
   ]
  },
  {
   "cell_type": "code",
   "execution_count": 52,
   "id": "58b04fda-84ae-470e-b44e-5ad290b30902",
   "metadata": {},
   "outputs": [],
   "source": [
    "# Remove rows with missing values\n",
    "X_train = X_train.dropna()"
   ]
  },
  {
   "cell_type": "code",
   "execution_count": 53,
   "id": "98e8ea00-bb8d-4a39-a59b-079dc3787b7a",
   "metadata": {},
   "outputs": [],
   "source": [
    "# Apply TfidfVectorizer\n",
    "vectorizer = TfidfVectorizer()\n",
    "X_train_numeric = vectorizer.fit_transform(X_train)"
   ]
  },
  {
   "cell_type": "code",
   "execution_count": 35,
   "id": "0dfef780-ebde-4f9a-8bab-1c62052789fc",
   "metadata": {},
   "outputs": [],
   "source": [
    "from sklearn.preprocessing import LabelEncoder"
   ]
  },
  {
   "cell_type": "code",
   "execution_count": 36,
   "id": "6c7fac85-ca87-4744-a3e2-465b15866602",
   "metadata": {},
   "outputs": [],
   "source": [
    "# Encode categorical target variable\n",
    "le = LabelEncoder()\n",
    "y_train_encoded = le.fit_transform(y_train)"
   ]
  },
  {
   "cell_type": "code",
   "execution_count": 38,
   "id": "068eb13b-94c0-4783-a473-349527489e95",
   "metadata": {},
   "outputs": [
    {
     "name": "stdout",
     "output_type": "stream",
     "text": [
      "<class 'pandas.core.series.Series'>\n",
      "Index: 75057 entries, 65601 to 15795\n",
      "Series name: Data\n",
      "Non-Null Count  Dtype \n",
      "--------------  ----- \n",
      "63652 non-null  object\n",
      "dtypes: object(1)\n",
      "memory usage: 1.1+ MB\n",
      "None\n",
      "Labels\n",
      "                                                           129\n",
      "alt.atheism                                                108\n",
      " and                                                        71\n",
      " Inc.                                                       65\n",
      "talk.politics.misc                                          51\n",
      "                                                          ... \n",
      " I not know Him at all.  Yes.  We should show love to        1\n",
      " 22 Apr 1993 05:02:11 GMT                                    1\n",
      " I rolled off the throttle and coasted.  I wanted            1\n",
      " we all know that they were really the best team in the      1\n",
      " launched from 1966 to 1967                                  1\n",
      "Name: count, Length: 14077, dtype: int64\n"
     ]
    }
   ],
   "source": [
    "print(X_train.info())\n",
    "print(y_train.value_counts())"
   ]
  },
  {
   "cell_type": "code",
   "execution_count": 39,
   "id": "da37a454-18bc-44c5-8f41-beb940993816",
   "metadata": {},
   "outputs": [],
   "source": [
    "from sklearn.model_selection import train_test_split\n",
    "from sklearn.pipeline import Pipeline"
   ]
  },
  {
   "cell_type": "code",
   "execution_count": 60,
   "id": "40a71c7a-1731-4662-ae01-6ee7203bbed7",
   "metadata": {},
   "outputs": [],
   "source": [
    "# Define pipeline with TF-IDF vectorizer and Naive Bayes classifier\n",
    "pipeline = Pipeline([\n",
    "    ('vectorizer', TfidfVectorizer()),\n",
    "    ('classifier', MultinomialNB())\n",
    "])"
   ]
  },
  {
   "cell_type": "code",
   "execution_count": 64,
   "id": "361bb191-d20b-4139-851a-92bb320a92e7",
   "metadata": {},
   "outputs": [],
   "source": [
    "# Split data into training and testing sets\n",
    "X_train, X_test, y_train, y_test = train_test_split(df['Labels'], df['Labels'], test_size=0.2, random_state=42)\n"
   ]
  },
  {
   "cell_type": "code",
   "execution_count": 71,
   "id": "93b3fe93-67fa-4ff2-8b2d-33b575c6ba75",
   "metadata": {},
   "outputs": [
    {
     "name": "stderr",
     "output_type": "stream",
     "text": [
      "[nltk_data] Downloading package vader_lexicon to\n",
      "[nltk_data]     C:\\Users\\HP\\AppData\\Roaming\\nltk_data...\n"
     ]
    },
    {
     "data": {
      "text/plain": [
       "True"
      ]
     },
     "execution_count": 71,
     "metadata": {},
     "output_type": "execute_result"
    }
   ],
   "source": [
    "import nltk\n",
    "nltk.download('vader_lexicon')"
   ]
  },
  {
   "cell_type": "code",
   "execution_count": 73,
   "id": "c8cd0acb-3827-4452-9ebd-ead26442c436",
   "metadata": {},
   "outputs": [],
   "source": [
    "from nltk.sentiment.vader import SentimentIntensityAnalyzer\n",
    "import nltk"
   ]
  },
  {
   "cell_type": "code",
   "execution_count": 74,
   "id": "9ce19ec6-c003-483e-aed9-f0ddffe67c63",
   "metadata": {},
   "outputs": [
    {
     "name": "stderr",
     "output_type": "stream",
     "text": [
      "[nltk_data] Downloading package vader_lexicon to\n",
      "[nltk_data]     C:\\Users\\HP\\AppData\\Roaming\\nltk_data...\n",
      "[nltk_data]   Package vader_lexicon is already up-to-date!\n"
     ]
    },
    {
     "data": {
      "text/plain": [
       "True"
      ]
     },
     "execution_count": 74,
     "metadata": {},
     "output_type": "execute_result"
    }
   ],
   "source": [
    "# Download NLTK's vader_lexicon if not already downloaded\n",
    "nltk.download('vader_lexicon')"
   ]
  },
  {
   "cell_type": "code",
   "execution_count": 75,
   "id": "f8c38123-c902-4568-b224-12f3d880261e",
   "metadata": {},
   "outputs": [],
   "source": [
    "# Initialize SentimentIntensityAnalyzer\n",
    "sia = SentimentIntensityAnalyzer()"
   ]
  },
  {
   "cell_type": "code",
   "execution_count": 76,
   "id": "a2e72eaa-cfa7-47f2-bb55-6a78e65b378f",
   "metadata": {},
   "outputs": [],
   "source": [
    "# Perform sentiment analysis\n",
    "text = \"This is a sample text.\"\n",
    "sentiment = sia.polarity_scores(text)"
   ]
  },
  {
   "cell_type": "code",
   "execution_count": 77,
   "id": "1c1c7900-1fb1-461a-b005-deb9d2abd6aa",
   "metadata": {},
   "outputs": [
    {
     "name": "stdout",
     "output_type": "stream",
     "text": [
      "{'neg': 0.0, 'neu': 1.0, 'pos': 0.0, 'compound': 0.0}\n"
     ]
    }
   ],
   "source": [
    "print(sentiment)"
   ]
  },
  {
   "cell_type": "code",
   "execution_count": 78,
   "id": "22ec0c53-56b7-4500-85ff-bc542d85add1",
   "metadata": {},
   "outputs": [],
   "source": [
    "def analyze_sentiment(text):\n",
    "    sentiment = sia.polarity_scores(text)\n",
    "    if sentiment['compound'] >= 0.05:\n",
    "        return 'Positive'\n",
    "    elif sentiment['compound'] <= -0.05:\n",
    "        return 'Negative'\n",
    "    else:\n",
    "        return 'Neutral'\n"
   ]
  },
  {
   "cell_type": "code",
   "execution_count": 82,
   "id": "f797847b-b341-4b8a-8327-e93abad1cb42",
   "metadata": {},
   "outputs": [],
   "source": [
    "# Convert data to numeric array\n",
    "X_train_numeric = np.array(X_train)"
   ]
  },
  {
   "cell_type": "code",
   "execution_count": 84,
   "id": "4105964e-76ef-4bb4-a243-511301a3153f",
   "metadata": {},
   "outputs": [],
   "source": [
    "from sklearn.preprocessing import LabelEncoder\n",
    "\n",
    "# Encode categorical target variable\n",
    "le = LabelEncoder()\n",
    "y_train_encoded = le.fit_transform(y_train)"
   ]
  },
  {
   "cell_type": "markdown",
   "id": "bfba4911-10de-4062-99e3-4843ccbc7c5f",
   "metadata": {},
   "source": [
    "\n",
    "Exploratory Data Analysis (EDA)\n"
   ]
  },
  {
   "cell_type": "code",
   "execution_count": 90,
   "id": "7957273e-2dbf-4f7d-9314-64d8de661adb",
   "metadata": {},
   "outputs": [
    {
     "name": "stdout",
     "output_type": "stream",
     "text": [
      "                                                Data       Labels Unnamed: 2  \\\n",
      "0  Path: cantaloupe.srv.cs.cmu.edu!magnesium.club...  alt.atheism        NaN   \n",
      "1  Newsgroups: alt.atheism\\nPath: cantaloupe.srv....  alt.atheism        NaN   \n",
      "2  Path: cantaloupe.srv.cs.cmu.edu!das-news.harva...  alt.atheism        NaN   \n",
      "3  Path: cantaloupe.srv.cs.cmu.edu!magnesium.club...  alt.atheism        NaN   \n",
      "4  Xref: cantaloupe.srv.cs.cmu.edu alt.atheism:53...  alt.atheism        NaN   \n",
      "\n",
      "  Unnamed: 3 Unnamed: 4 Unnamed: 5 Unnamed: 6 Unnamed: 7 Unnamed: 8  \\\n",
      "0        NaN        NaN        NaN        NaN        NaN        NaN   \n",
      "1        NaN        NaN        NaN        NaN        NaN        NaN   \n",
      "2        NaN        NaN        NaN        NaN        NaN        NaN   \n",
      "3        NaN        NaN        NaN        NaN        NaN        NaN   \n",
      "4        NaN        NaN        NaN        NaN        NaN        NaN   \n",
      "\n",
      "  Unnamed: 9  ... Unnamed: 27 Unnamed: 28 Unnamed: 29 Unnamed: 30 Unnamed: 31  \\\n",
      "0        NaN  ...         NaN         NaN         NaN         NaN         NaN   \n",
      "1        NaN  ...         NaN         NaN         NaN         NaN         NaN   \n",
      "2        NaN  ...         NaN         NaN         NaN         NaN         NaN   \n",
      "3        NaN  ...         NaN         NaN         NaN         NaN         NaN   \n",
      "4        NaN  ...         NaN         NaN         NaN         NaN         NaN   \n",
      "\n",
      "  Unnamed: 32 Unnamed: 33 Unnamed: 34 Unnamed: 35 Unnamed: 36  \n",
      "0         NaN         NaN         NaN         NaN         NaN  \n",
      "1         NaN         NaN         NaN         NaN         NaN  \n",
      "2         NaN         NaN         NaN         NaN         NaN  \n",
      "3         NaN         NaN         NaN         NaN         NaN  \n",
      "4         NaN         NaN         NaN         NaN         NaN  \n",
      "\n",
      "[5 rows x 37 columns]\n"
     ]
    }
   ],
   "source": [
    "# View first few rows\n",
    "print(df.head())"
   ]
  },
  {
   "cell_type": "code",
   "execution_count": 91,
   "id": "e9524500-4a5d-4279-89d0-f923df7ca468",
   "metadata": {},
   "outputs": [
    {
     "name": "stdout",
     "output_type": "stream",
     "text": [
      "(93822, 37)\n"
     ]
    }
   ],
   "source": [
    "# Get dataset shape\n",
    "print(df.shape)"
   ]
  },
  {
   "cell_type": "code",
   "execution_count": 92,
   "id": "73067df6-074b-477b-8edd-d6fc74d45164",
   "metadata": {},
   "outputs": [
    {
     "name": "stdout",
     "output_type": "stream",
     "text": [
      "Data           14381\n",
      "Labels         73304\n",
      "Unnamed: 2     88287\n",
      "Unnamed: 3     92411\n",
      "Unnamed: 4     93374\n",
      "Unnamed: 5     93677\n",
      "Unnamed: 6     93763\n",
      "Unnamed: 7     93791\n",
      "Unnamed: 8     93800\n",
      "Unnamed: 9     93802\n",
      "Unnamed: 10    93807\n",
      "Unnamed: 11    93811\n",
      "Unnamed: 12    93818\n",
      "Unnamed: 13    93819\n",
      "Unnamed: 14    93820\n",
      "Unnamed: 15    93820\n",
      "Unnamed: 16    93820\n",
      "Unnamed: 17    93820\n",
      "Unnamed: 18    93820\n",
      "Unnamed: 19    93820\n",
      "Unnamed: 20    93820\n",
      "Unnamed: 21    93821\n",
      "Unnamed: 22    93821\n",
      "Unnamed: 23    93821\n",
      "Unnamed: 24    93821\n",
      "Unnamed: 25    93821\n",
      "Unnamed: 26    93821\n",
      "Unnamed: 27    93821\n",
      "Unnamed: 28    93821\n",
      "Unnamed: 29    93821\n",
      "Unnamed: 30    93821\n",
      "Unnamed: 31    93821\n",
      "Unnamed: 32    93821\n",
      "Unnamed: 33    93821\n",
      "Unnamed: 34    93821\n",
      "Unnamed: 35    93821\n",
      "Unnamed: 36    93821\n",
      "dtype: int64\n"
     ]
    }
   ],
   "source": [
    "# Check for missing values\n",
    "print(df.isnull().sum())"
   ]
  },
  {
   "cell_type": "code",
   "execution_count": 93,
   "id": "06b79110-c963-4b98-818a-7e957fa3a482",
   "metadata": {},
   "outputs": [
    {
     "name": "stdout",
     "output_type": "stream",
     "text": [
      "17371\n",
      "Labels\n",
      "                                               165\n",
      "alt.atheism                                    117\n",
      " and                                            89\n",
      " Inc.                                           79\n",
      "talk.politics.misc                              61\n",
      "                                              ... \n",
      " keep him healthy and                            1\n",
      " he hasn't done too much so far. Sure. he's      1\n",
      " but those were all solo shots                   1\n",
      " he had a slow start last year (once he          1\n",
      " rob the crown;                                  1\n",
      "Name: count, Length: 17371, dtype: int64\n"
     ]
    }
   ],
   "source": [
    "# Get unique categories\n",
    "print(df['Labels'].nunique())\n",
    "print(df['Labels'].value_counts())"
   ]
  },
  {
   "cell_type": "markdown",
   "id": "8502307e-8e30-4f21-8382-ffdcc04281ab",
   "metadata": {},
   "source": [
    "Preprocessing\n"
   ]
  },
  {
   "cell_type": "code",
   "execution_count": 95,
   "id": "555a6d34-1f1c-4601-a69c-b4ea9521334c",
   "metadata": {},
   "outputs": [],
   "source": [
    "# Define preprocessing function\n",
    "def preprocess_text(text):\n",
    "    # Remove punctuation\n",
    "    text = re.sub(r'[^\\w\\s]', '', text)"
   ]
  },
  {
   "cell_type": "code",
   "execution_count": 97,
   "id": "275259e2-d5b2-4fd1-a4ac-ccde83fef2e2",
   "metadata": {},
   "outputs": [],
   "source": [
    "# Convert to lowercase\n",
    "text = text.lower()"
   ]
  },
  {
   "cell_type": "markdown",
   "id": "ad2e35ae-157d-481e-9c31-6e2f721486ec",
   "metadata": {},
   "source": [
    "Implement Naive Bayes classifier using scikit-learn\n"
   ]
  },
  {
   "cell_type": "code",
   "execution_count": 112,
   "id": "bfe4ca24-46d5-411a-a080-171415a9c2a5",
   "metadata": {},
   "outputs": [],
   "source": [
    "from sklearn.naive_bayes import MultinomialNB\n",
    "from sklearn.metrics import accuracy_score, classification_report, confusion_matrix"
   ]
  },
  {
   "cell_type": "code",
   "execution_count": 113,
   "id": "67e461fe-1ab8-4406-bc8b-f60a843da7c7",
   "metadata": {},
   "outputs": [],
   "source": [
    "# Create Naive Bayes classifier\n",
    "nb_classifier = MultinomialNB()"
   ]
  },
  {
   "cell_type": "code",
   "execution_count": 119,
   "id": "a31093ed-36e7-451c-8870-f9ddec9113be",
   "metadata": {},
   "outputs": [],
   "source": [
    "from sklearn.model_selection import GridSearchCV"
   ]
  },
  {
   "cell_type": "code",
   "execution_count": 120,
   "id": "1bc573d2-903c-4952-810c-526458609624",
   "metadata": {},
   "outputs": [],
   "source": [
    "# Define hyperparameter grid\n",
    "param_grid = {'alpha': [0.1, 0.5, 1], 'fit_prior': [True, False]}"
   ]
  },
  {
   "cell_type": "markdown",
   "id": "98183f79-5fd8-4c23-bb14-b451efd0e677",
   "metadata": {},
   "source": [
    "Conclusion\n",
    "\n",
    "The Naive Bayes classifier demonstrated good performance in categorizing blog posts. Sentiment analysis revealed informative and neutral content, with occasional positive or negative sentiment. These findings provide insights into the content and tone of the blog posts, which can inform future content creation and marketing strategies."
   ]
  },
  {
   "cell_type": "code",
   "execution_count": null,
   "id": "2adf9d2b-5d50-4ef0-be90-8cd5b24fe271",
   "metadata": {},
   "outputs": [],
   "source": []
  }
 ],
 "metadata": {
  "kernelspec": {
   "display_name": "Python 3 (ipykernel)",
   "language": "python",
   "name": "python3"
  },
  "language_info": {
   "codemirror_mode": {
    "name": "ipython",
    "version": 3
   },
   "file_extension": ".py",
   "mimetype": "text/x-python",
   "name": "python",
   "nbconvert_exporter": "python",
   "pygments_lexer": "ipython3",
   "version": "3.11.9"
  }
 },
 "nbformat": 4,
 "nbformat_minor": 5
}
